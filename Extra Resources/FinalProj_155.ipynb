{
  "cells": [
    {
      "cell_type": "markdown",
      "metadata": {
        "id": "_Gvk_I4uv_jK"
      },
      "source": [
        "**PROJECT NOTES**\n",
        "\n",
        "- Adobe recommends ~150 picture source library for photomosaics, but given that we aren't using any colorization, I think we will probably need more (maybe 300+?)"
      ]
    },
    {
      "cell_type": "markdown",
      "metadata": {
        "id": "Qkzt_FKg05Ec"
      },
      "source": [
        "# The Main Idea\n",
        "\n",
        "We want to split our input image (or camera frame) into $n$ x $m$ tiles (where $n, m$ are proportional to the aspect ratio of the input), each with a square resolution of $N$ x $N$ pixels. For each tile, we will calculate the \"average RGB\" value of the pixels within it, which is represented by:\n",
        "\n",
        "\\begin{equation}\n",
        "(r,g,b)_{avg} = (\\frac{r_1 + r_2 + ... + r_{N^2}}{N^2}, \\frac{g_1 + g_2 + ... + g_{N^2}}{N^2}, \\frac{b_1 + b_2 + ... + b_{N^2}}{N^2})\n",
        "\\end{equation}\n",
        "\n",
        "(where $(r_1,b_1,g_1), ... , (r_{N^2},b_{N^2},g_{N^2})$ correspond to the RGB values of the $N^2$ pixels in our tile)\n",
        "\n",
        "It is worth noting that averaging across RGB values is preferable over HSV, HSL, or CMY as we are working with digital images and we want each channel to work equally and independently. For example, the HSL vectors (0, 100, 99) and (180, 0, 99) both correspond to an almost identical white color, despite the distance between these vectors being very large.\n",
        "\n",
        "\n",
        "\n",
        "---\n",
        "\n",
        "\n",
        "After computing $(r,g,b)_{avg}$ for a tile, we want to match it to the painting from our image library that has the **closest** average RGB value to the tile (to do this, we would need to compute $(r,g,b)_{avg}$ for all images in our input library). Let: $I = \\{\\vec{x}^{\\,}_{k} = (r,g,b)_{avg,I_k} \\mid I_k \\text{ the $k$th image in image library}\\}$\n",
        "\n",
        "By \"closest\", we mean \"the distance between $(r,g,b)_{avg}$ and $(r,g,b)_{avg,I_k}$ is minimized\". We can do this via the L2-norm:\n",
        "\n",
        "\\begin{equation}\n",
        "I_{tile} = \\arg \\min_{I_k} \\sqrt{(r_{avg} - r_{avg,I_k})^2 + (g_{avg} - g_{avg,I_k})^2 + (b_{avg} - b_{avg,I_k})^2}\n",
        "\\end{equation}\n",
        "\n",
        "And there we go! We just need to construct an $n$ x $m$ mosaic image, where each tile $I_{tile}$ corresponds to an image in the library. Resolution downsizing will probably need to be done to each $I_{tile}$ so we don't have a 16384x16384 image lol "
      ]
    },
    {
      "cell_type": "code",
      "execution_count": null,
      "metadata": {
        "id": "s8WX4dou01ic"
      },
      "outputs": [],
      "source": [
        "# Imports\n",
        "\n",
        "from PIL import Image\n",
        "import numpy as np\n",
        "import imghdr\n",
        "import cv2\n",
        "import os\n",
        "from os import listdir\n",
        "import math\n",
        "from google.colab import files"
      ]
    },
    {
      "cell_type": "code",
      "execution_count": null,
      "metadata": {
        "colab": {
          "base_uri": "https://localhost:8080/"
        },
        "id": "TyKCiwOb7ed7",
        "outputId": "ccd1d4a1-5604-4d13-9eef-6d5a83c574d8"
      },
      "outputs": [
        {
          "output_type": "stream",
          "name": "stdout",
          "text": [
            "Mounted at /content/drive\n"
          ]
        }
      ],
      "source": [
        "# Mount Drive\n",
        "\n",
        "from google.colab import drive\n",
        "drive.mount('/content/drive')"
      ]
    },
    {
      "cell_type": "code",
      "execution_count": null,
      "metadata": {
        "colab": {
          "base_uri": "https://localhost:8080/"
        },
        "id": "0Eag1BzDdDf3",
        "outputId": "8bc7df1f-43d1-434a-8360-0df74e14953b"
      },
      "outputs": [
        {
          "output_type": "stream",
          "name": "stdout",
          "text": [
            "Number of .jpg files:  95 \n",
            "\n",
            "Number of .png files:  31 \n",
            "\n",
            "Number of .jpeg files:  39 \n",
            "\n",
            "Number of .webp files:  8 \n",
            "\n"
          ]
        }
      ],
      "source": [
        "\n",
        "# NOTE: This will require the Painting Library to be cloned into your Google Drive under the same directory name\n",
        "folder_dir = '/content/drive/MyDrive/Painting Library - Math 155 Final Project'\n",
        "\n",
        "numjpg = numpng = numwebp = numjpeg = 0\n",
        "\n",
        "for images in os.listdir(folder_dir):\n",
        "  if images.endswith('.png'):\n",
        "    numpng += 1\n",
        "  elif images.endswith('.jpg'):\n",
        "    numjpg += 1\n",
        "  elif images.endswith('.jpeg'):\n",
        "    numjpeg += 1\n",
        "  elif images.endswith('.webp'):\n",
        "    numwebp += 1\n",
        "  else:\n",
        "    print(\"Unrecognized file type detected\\n\")\n",
        "    print(\"\\tFile Name: \", images, \"\\n\")\n",
        "\n",
        "print(\"Number of .jpg files: \", numjpg, \"\\n\")\n",
        "print(\"Number of .png files: \", numpng, \"\\n\")\n",
        "print(\"Number of .jpeg files: \", numjpeg, \"\\n\")\n",
        "print(\"Number of .webp files: \", numwebp, \"\\n\")\n"
      ]
    },
    {
      "cell_type": "code",
      "execution_count": null,
      "metadata": {
        "id": "Gjnz7u7Tgedg"
      },
      "outputs": [],
      "source": [
        "# Crop/Resize (thanks Anna)\n",
        "\n",
        "def crop_and_resize(im):\n",
        "  width, height = im.size\n",
        "  imageSize = 256\n",
        "\n",
        "  if width >= height:\n",
        "    diff = width - height\n",
        "\n",
        "    left = math.floor(diff/2)\n",
        "    right = math.floor(width - diff/2)\n",
        "    top = 0\n",
        "    bottom = height\n",
        "\n",
        "  else:\n",
        "    diff = height - width\n",
        "\n",
        "    left = 0\n",
        "    right = width\n",
        "    top = math.floor(diff/2)\n",
        "    bottom = math.floor(height - diff/2)\n",
        "\n",
        "  im = im.crop((left, top, right, bottom))\n",
        "\n",
        "  # resize\n",
        "\n",
        "  im = im.resize((imageSize, imageSize))\n",
        "\n",
        "  return im \n",
        "\n",
        "\n",
        "\n",
        "\n"
      ]
    },
    {
      "cell_type": "code",
      "execution_count": null,
      "metadata": {
        "colab": {
          "base_uri": "https://localhost:8080/"
        },
        "id": "hNPuF6JIhT6N",
        "outputId": "98f24b28-533f-4822-c9e7-803938828a69"
      },
      "outputs": [
        {
          "output_type": "stream",
          "name": "stderr",
          "text": [
            "/usr/local/lib/python3.10/dist-packages/PIL/Image.py:2918: DecompressionBombWarning: Image size (164084688 pixels) exceeds limit of 89478485 pixels, could be decompression bomb DOS attack.\n",
            "  warnings.warn(\n",
            "/usr/local/lib/python3.10/dist-packages/PIL/Image.py:2918: DecompressionBombWarning: Image size (136118889 pixels) exceeds limit of 89478485 pixels, could be decompression bomb DOS attack.\n",
            "  warnings.warn(\n"
          ]
        }
      ],
      "source": [
        "# File Conversion time! (to jpg)\n",
        "\n",
        "# Make output path (if one does not exist already)\n",
        "\n",
        "path_dir = '/content/drive/MyDrive/Painting_Library_Converted'\n",
        "if not os.path.exists(path_dir):\n",
        "  os.mkdir(path_dir)\n",
        "  print(\"Directory Painting_Library_Converted Created\")\n",
        "else:\n",
        "  for file in os.listdir(path_dir):\n",
        "    os.remove(path_dir + '/' + file) # BE CAREFUL WITH MODIFYING THIS!!! IT CAN DELETE FILES IN DRIVE\n",
        "                                     # THIS IS JUST TO ENSURE THAT WE DO NOT DUPLICATE FILES\n",
        "\n",
        "counter = 0\n",
        "for images in os.listdir(folder_dir):\n",
        "  im = Image.open(folder_dir + '/' + images).convert(\"RGB\")\n",
        "\n",
        "  if images.endswith('.jpg') or images.endswith('.png'):\n",
        "    images = images[:-4]\n",
        "  elif images.endswith('.webp') or images.endswith('.jpeg'):\n",
        "    images = images[:-5]\n",
        "  else:\n",
        "    print(\"Error!\")\n",
        "    break\n",
        "\n",
        "  im = crop_and_resize(im)\n",
        "  \n",
        "  im.save(path_dir + '/' + images + '.jpg', 'JPEG')\n",
        "  # im.save(path_dir + '/' + str(counter) + '.jpg', 'JPEG')\n",
        "  # ^^ Counter is for to-js library\n",
        "\n",
        "  counter += 1\n",
        "\n"
      ]
    },
    {
      "cell_type": "code",
      "execution_count": null,
      "metadata": {
        "colab": {
          "base_uri": "https://localhost:8080/"
        },
        "id": "L2J0FRr7pB_p",
        "outputId": "9ba1feb6-61d8-4c59-d816-9608b686c595"
      },
      "outputs": [
        {
          "name": "stdout",
          "output_type": "stream",
          "text": [
            "(256, 256, 3)\n",
            "256\n"
          ]
        }
      ],
      "source": [
        "im = Image.open(path_dir + '/' + '640px-Boris_Kustodiev_-_Shrovetide_-_Google_Art_Project.jpg')\n",
        "array = np.asarray(im)\n",
        "print(array.shape)\n",
        "print(len(array))"
      ]
    },
    {
      "cell_type": "markdown",
      "metadata": {
        "id": "TbNGBuCXanBQ"
      },
      "source": [
        "# Crop and Resize (MATLAB ver.)\n",
        "\n",
        "\n",
        "```\n",
        "imageSize = 256; % N x N square, can modify the actual size\n",
        "\n",
        "directory = '/content/drive/MyDrive/Painting_Library_Converted';\n",
        "\n",
        "% Get a list of image files in the directory\n",
        "imageFiles = dir(fullfile(directory, '*.jpg')); \n",
        "\n",
        "for i = 1:numel(imageFiles)\n",
        "    imagePath = fullfile(directory, imageFiles(i).name);\n",
        "    orig_img = imread(imagePath);\n",
        "\n",
        "    % Crop the image to a square\n",
        "    [height, width, ~] = size(orig_img);\n",
        "    minDim = min(height, width);\n",
        "    left = (width - minDim) / 2;\n",
        "    top = (height - minDim) / 2;\n",
        "    right = left + minDim;\n",
        "    bottom = top + minDim;\n",
        "    croppedImage = orig_img((top+1):bottom, (left+1):right,1:3);\n",
        "\n",
        "    % Resize the image to the desired size\n",
        "    resizedImage = imresize(croppedImage, [imageSize, imageSize]);\n",
        "\n",
        "    % Save the modified image\n",
        "    [~, imageName, imageExt] = fileparts(imageFiles(i).name);\n",
        "    modifiedImagePath = fullfile(directory, [imageName, '_modified', imageExt]);\n",
        "    imwrite(resizedImage, modifiedImagePath);\n",
        "\n",
        "end\n",
        "```\n"
      ]
    },
    {
      "cell_type": "code",
      "execution_count": null,
      "metadata": {
        "id": "OgiTwYQVCh-R"
      },
      "outputs": [],
      "source": [
        "# Compute average RGB values for given neighborhood of pixels\n",
        "def compute_avg_rgb(pixels):\n",
        "  n = pixels.shape[0] * pixels.shape[1] \n",
        "  total_r = total_g = total_b = 0\n",
        "  for row in pixels:\n",
        "    for r, g, b in row:\n",
        "      total_r += r\n",
        "      total_g += g\n",
        "      total_b += b\n",
        "\n",
        "  avg_r = total_r / n\n",
        "  avg_g = total_g / n\n",
        "  avg_b = total_b / n\n",
        "\n",
        "  return (avg_r, avg_g, avg_b)"
      ]
    },
    {
      "cell_type": "code",
      "execution_count": null,
      "metadata": {
        "id": "zedsMtJh_6P8"
      },
      "outputs": [],
      "source": [
        "# Compute average RGB values for each painting in the converted library\n",
        "def avg_rgb_paintings(paintings_directory):\n",
        "  avg_rgb = {}\n",
        "\n",
        "  for filename in os.listdir(paintings_directory):\n",
        "    if filename.endswith(\".jpg\"):\n",
        "      image_path = os.path.join(paintings_directory, filename)\n",
        "      image = Image.open(image_path)\n",
        "\n",
        "      pixel_data = np.asarray(image)\n",
        "\n",
        "      avg_rgb[filename] = compute_avg_rgb(pixel_data)\n",
        "\n",
        "  return avg_rgb"
      ]
    },
    {
      "cell_type": "code",
      "execution_count": null,
      "metadata": {
        "id": "zJgHYGV0Mrvi"
      },
      "outputs": [],
      "source": [
        "# Find the painting with the closest average RGB values \n",
        "def find_closest_painting(target_rgb, paintings_rgb):\n",
        "    closest = None\n",
        "    min_dist = float('inf')\n",
        "\n",
        "    for filename in paintings_rgb:\n",
        "      avg_rgb = paintings_rgb[filename]\n",
        "      dist = ((target_rgb[0] - avg_rgb[0]) ** 2 + (target_rgb[1] - avg_rgb[1]) ** 2 +\n",
        "                  (target_rgb[2] - avg_rgb[2]) ** 2) ** 0.5\n",
        "\n",
        "      if dist < min_dist:\n",
        "        min_dist = dist\n",
        "        closest = filename\n",
        "\n",
        "    return closest\n"
      ]
    },
    {
      "cell_type": "code",
      "execution_count": null,
      "metadata": {
        "id": "WZi1-FYbMPIV"
      },
      "outputs": [],
      "source": [
        "# Divide the image into tiles and substitute it with a painting with closest average RGB value\n",
        "def divide_substitute(input_path, output_path, paintings_directory, tile_min, overlap):\n",
        "    image = Image.open(input_path)\n",
        "\n",
        "    r_up = 1 # resolution increase parameter\n",
        "\n",
        "    m, n = image.size\n",
        "\n",
        "    tile_size = min(m // tile_min, n // tile_min)\n",
        "\n",
        "    horizontal = (m - overlap) // (tile_size - overlap)\n",
        "    vertical = (n - overlap) // (tile_size - overlap)\n",
        "\n",
        "    output = Image.new('RGB', (r_up*m, r_up*n))\n",
        "\n",
        "    paintings_dict = avg_rgb_paintings(paintings_directory)\n",
        "\n",
        "    for i in range(vertical):\n",
        "      for j in range(horizontal):\n",
        "        x = j * (tile_size - overlap)\n",
        "        y = i * (tile_size - overlap)\n",
        "        tile = image.crop((x, y, x + tile_size, y + tile_size))\n",
        "\n",
        "        tilearray = np.asarray(tile)\n",
        "\n",
        "        avg_rgb = compute_avg_rgb(tilearray)\n",
        "\n",
        "        filename = find_closest_painting(avg_rgb, paintings_dict)\n",
        "        path = os.path.join(paintings_directory, filename)\n",
        "\n",
        "        painting = Image.open(path)\n",
        "        resized_painting = painting.resize((r_up*tile_size, r_up*tile_size))\n",
        "\n",
        "        output.paste(resized_painting, (r_up*x, r_up*y))\n",
        "\n",
        "    output.save(output_path)\n",
        "\n",
        "    # output.show()"
      ]
    },
    {
      "cell_type": "code",
      "execution_count": null,
      "metadata": {
        "id": "BjXQiqi-B94Q"
      },
      "outputs": [],
      "source": [
        "# put it altogether\n",
        "\n",
        "output_path = '/content/drive/MyDrive/Output_Video_Folder'\n",
        "input_path = '/content/drive/MyDrive/155_final_video'\n",
        "\n",
        "#k = 0\n",
        "\n",
        "for image in os.listdir(input_path):\n",
        "  im = input_path + '/' + image\n",
        "\n",
        "  input_direction = input_path + '/' + image\n",
        "  \n",
        "  output_direction = output_path + '/' + image\n",
        "\n",
        "  divide_substitute(input_direction, output_direction, path_dir, 60, 0)\n",
        "  #k += 1\n",
        "\n",
        "\n",
        "# divide_substitute('/content/drive/MyDrive/japanpicture.jpg', 'b', path_dir, 52, 0) # replace last extension with whatever img u wanna use\n",
        "# requires jpg"
      ]
    }
  ],
  "metadata": {
    "colab": {
      "provenance": []
    },
    "kernelspec": {
      "display_name": "Python 3",
      "name": "python3"
    },
    "language_info": {
      "name": "python"
    }
  },
  "nbformat": 4,
  "nbformat_minor": 0
}